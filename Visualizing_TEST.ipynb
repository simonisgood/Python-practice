{
 "cells": [
  {
   "cell_type": "code",
   "execution_count": 65,
   "metadata": {},
   "outputs": [],
   "source": [
    "import matplotlib.pyplot as plt\n",
    "import numpy as np\n",
    "import pandas as pd"
   ]
  },
  {
   "cell_type": "code",
   "execution_count": 4,
   "metadata": {},
   "outputs": [],
   "source": [
    "a = ['Monday', 'Tuesday', 'Monday', 'Friday']\n",
    "b = [8, 9, 13, 17]"
   ]
  },
  {
   "cell_type": "code",
   "execution_count": 5,
   "metadata": {},
   "outputs": [],
   "source": [
    "a = [1, 2, 1, 5]"
   ]
  },
  {
   "cell_type": "code",
   "execution_count": 11,
   "metadata": {},
   "outputs": [],
   "source": [
    "week = ['Monday', 'Tuesday', 'Wednesday', 'Thursday', 'Friday', 'Saturday', 'sunday']\n",
    "time = range(8, 23)"
   ]
  },
  {
   "cell_type": "code",
   "execution_count": 13,
   "metadata": {},
   "outputs": [
    {
     "data": {
      "text/plain": [
       "[8, 9, 10, 11, 12, 13, 14, 15, 16, 17, 18, 19, 20, 21, 22]"
      ]
     },
     "execution_count": 13,
     "metadata": {},
     "output_type": "execute_result"
    }
   ],
   "source": [
    "list(time)"
   ]
  },
  {
   "cell_type": "code",
   "execution_count": 70,
   "metadata": {},
   "outputs": [
    {
     "data": {
      "image/png": "[encoded data removed]",
      "text/plain": [
       "<Figure size 288x288 with 1 Axes>"
      ]
     },
     "metadata": {
      "needs_background": "light"
     },
     "output_type": "display_data"
    }
   ],
   "source": [
    "fig, ax = plt.subplots(figsize=(4, 4))\n",
    "\n",
    "plt.barh(a, b)\n",
    "plt.xticks(range(7), week, rotation=90)\n",
    "plt.yticks(list(time))\n",
    "plt.grid(color = 'gray')\n",
    "plt.tick_params(labelsize=10)"
   ]
  },
  {
   "cell_type": "code",
   "execution_count": 66,
   "metadata": {
    "scrolled": false
   },
   "outputs": [
    {
     "data": {
      "text/html": [
       "<div>\n",
       "<style scoped>\n",
       "    .dataframe tbody tr th:only-of-type {\n",
       "        vertical-align: middle;\n",
       "    }\n",
       "\n",
       "    .dataframe tbody tr th {\n",
       "        vertical-align: top;\n",
       "    }\n",
       "\n",
       "    .dataframe thead th {\n",
       "        text-align: right;\n",
       "    }\n",
       "</style>\n",
       "<table border=\"1\" class=\"dataframe\">\n",
       "  <thead>\n",
       "    <tr style=\"text-align: right;\">\n",
       "      <th></th>\n",
       "      <th>Unnamed: 0</th>\n",
       "      <th>Course Code</th>\n",
       "      <th>Title</th>\n",
       "      <th>Field</th>\n",
       "      <th>Level</th>\n",
       "      <th>Pre-requisites</th>\n",
       "      <th>Professor</th>\n",
       "      <th>ECTS</th>\n",
       "      <th>Language</th>\n",
       "      <th>Remarks</th>\n",
       "      <th>TIME</th>\n",
       "    </tr>\n",
       "  </thead>\n",
       "  <tbody>\n",
       "    <tr>\n",
       "      <td>0</td>\n",
       "      <td>0</td>\n",
       "      <td>GESTS409</td>\n",
       "      <td>Advanced accounting</td>\n",
       "      <td>Accounting</td>\n",
       "      <td>Specialization</td>\n",
       "      <td>At least two courses in accounting</td>\n",
       "      <td>Jean-Paul LOOZEN</td>\n",
       "      <td>5.0</td>\n",
       "      <td>English</td>\n",
       "      <td>NaN</td>\n",
       "      <td>[('Wednesday', '12:00 to 14:00'), ('Wednesday'...</td>\n",
       "    </tr>\n",
       "    <tr>\n",
       "      <td>1</td>\n",
       "      <td>1</td>\n",
       "      <td>GESTS410</td>\n",
       "      <td>Advanced corporate finance</td>\n",
       "      <td>Finance</td>\n",
       "      <td>Intermediate</td>\n",
       "      <td>Accounting, basic finance course</td>\n",
       "      <td>Kim OOSTERLINCK</td>\n",
       "      <td>5.0</td>\n",
       "      <td>English</td>\n",
       "      <td>NaN</td>\n",
       "      <td>[('Wednesday', '16:00 to 18:00'), ('Wednesday'...</td>\n",
       "    </tr>\n",
       "    <tr>\n",
       "      <td>2</td>\n",
       "      <td>2</td>\n",
       "      <td>GESTS402</td>\n",
       "      <td>Advanced finance</td>\n",
       "      <td>Finance</td>\n",
       "      <td>Intermediate</td>\n",
       "      <td>At least one class in finance</td>\n",
       "      <td>Laurent GHEERAERT</td>\n",
       "      <td>5.0</td>\n",
       "      <td>English</td>\n",
       "      <td>Description available on demand</td>\n",
       "      <td>[('Tuesday', '10:00 to 12:00'), ('Tuesday', '1...</td>\n",
       "    </tr>\n",
       "    <tr>\n",
       "      <td>3</td>\n",
       "      <td>3</td>\n",
       "      <td>GESTS403</td>\n",
       "      <td>Advanced Marketing</td>\n",
       "      <td>Marketing</td>\n",
       "      <td>Intermediate</td>\n",
       "      <td>Basic marketing class</td>\n",
       "      <td>Sandra ROTHENBERGER</td>\n",
       "      <td>5.0</td>\n",
       "      <td>English</td>\n",
       "      <td>NaN</td>\n",
       "      <td>[('Monday', '10:00 to 12:00'), ('Monday', '10:...</td>\n",
       "    </tr>\n",
       "    <tr>\n",
       "      <td>4</td>\n",
       "      <td>4</td>\n",
       "      <td>GESTS489</td>\n",
       "      <td>Advanced Marketing</td>\n",
       "      <td>Marketing</td>\n",
       "      <td>Intermediate</td>\n",
       "      <td>Basic knowledge in marketing</td>\n",
       "      <td>Sandra ROTHENBERGER</td>\n",
       "      <td>5.0</td>\n",
       "      <td>English</td>\n",
       "      <td>NaN</td>\n",
       "      <td>[('Monday', '10:00 to 12:00'), ('Monday', '18:...</td>\n",
       "    </tr>\n",
       "  </tbody>\n",
       "</table>\n",
       "</div>"
      ],
      "text/plain": [
       "   Unnamed: 0 Course Code                        Title       Field  \\\n",
       "0           0    GESTS409          Advanced accounting  Accounting   \n",
       "1           1    GESTS410  Advanced corporate finance      Finance   \n",
       "2           2    GESTS402             Advanced finance     Finance   \n",
       "3           3    GESTS403           Advanced Marketing   Marketing   \n",
       "4           4    GESTS489           Advanced Marketing   Marketing   \n",
       "\n",
       "            Level                      Pre-requisites           Professor   \\\n",
       "0  Specialization  At least two courses in accounting     Jean-Paul LOOZEN   \n",
       "1    Intermediate    Accounting, basic finance course      Kim OOSTERLINCK   \n",
       "2    Intermediate       At least one class in finance    Laurent GHEERAERT   \n",
       "3    Intermediate               Basic marketing class  Sandra ROTHENBERGER   \n",
       "4    Intermediate        Basic knowledge in marketing  Sandra ROTHENBERGER   \n",
       "\n",
       "   ECTS Language                          Remarks  \\\n",
       "0   5.0  English                              NaN   \n",
       "1   5.0  English                              NaN   \n",
       "2   5.0  English  Description available on demand   \n",
       "3   5.0  English                              NaN   \n",
       "4   5.0  English                              NaN   \n",
       "\n",
       "                                                TIME  \n",
       "0  [('Wednesday', '12:00 to 14:00'), ('Wednesday'...  \n",
       "1  [('Wednesday', '16:00 to 18:00'), ('Wednesday'...  \n",
       "2  [('Tuesday', '10:00 to 12:00'), ('Tuesday', '1...  \n",
       "3  [('Monday', '10:00 to 12:00'), ('Monday', '10:...  \n",
       "4  [('Monday', '10:00 to 12:00'), ('Monday', '18:...  "
      ]
     },
     "execution_count": 66,
     "metadata": {},
     "output_type": "execute_result"
    }
   ],
   "source": [
    "df = pd.read_excel('C:/Users/user/Desktop/WorkSpace/ULB_courses selection/Courses_T1 2019.xlsx')\n",
    "df.head()"
   ]
  },
  {
   "cell_type": "code",
   "execution_count": null,
   "metadata": {},
   "outputs": [],
   "source": [
    "week = ['Wednesday', 'Wednesday', 'Thursday', 'Friday']\n",
    "time = "
   ]
  },
  {
   "cell_type": "code",
   "execution_count": 67,
   "metadata": {},
   "outputs": [
    {
     "data": {
      "text/plain": [
       "\"[('Wednesday', '12:00 to 14:00'), ('Wednesday', '14:00 to 16:00'), ('Thursday', '12:00 to 14:00'), ('Friday', '10:00 to 12:00')]\""
      ]
     },
     "execution_count": 67,
     "metadata": {},
     "output_type": "execute_result"
    }
   ],
   "source": [
    "df.TIME[0]"
   ]
  },
  {
   "cell_type": "code",
   "execution_count": 61,
   "metadata": {},
   "outputs": [
    {
     "data": {
      "image/png": "[encoded data removed]",
      "text/plain": [
       "<Figure size 432x288 with 1 Axes>"
      ]
     },
     "metadata": {
      "needs_background": "light"
     },
     "output_type": "display_data"
    }
   ],
   "source": [
    "m=[1,2,1,2,2,3,2,1,3,2,3]\n",
    "t=[5,6,9,2,4,5,4,2,3,5,6]\n",
    "for i in range(len(m)):\n",
    "\tif m[i]==1:\n",
    "\t\tif i==0:\n",
    "\t\t\tplt.barh(0,t[i])\n",
    "\t\t\tplt.text(np.sum(t[:i+1])/4,0,'J%s'%(i+1),color=\"white\")\n",
    "\t\telse:\n",
    "\t\t\tplt.barh(0,t[i],left=(np.sum(t[:i])))\n",
    "\t\t\tplt.text(np.sum(t[:i])+t[i]/4,0,'J%s'%(i+1),color=\"white\")\n",
    "\telif m[i]==2:\n",
    "\t\tif i==0:\n",
    "\t\t\tplt.barh(1,t[i])\n",
    "\t\t\tplt.text(np.sum(t[:i+1])/4,1,'J%s'%(i+1),color=\"white\")\n",
    "\t\telse:\n",
    "\t\t\tplt.barh(1,t[i],left=(np.sum(t[:i])))\n",
    "\t\t\tplt.text(np.sum(t[:i])+t[i]/4,1,'J%s'%(i+1),color=\"white\")\n",
    "\telse:\n",
    "\t\tif i==0:\n",
    "\t\t\tplt.barh(2,t[i])\n",
    "\t\t\tplt.text(np.sum(t[:i+1])/4,2,'J%s'%(i+1),color=\"white\")\n",
    "\t\telse:\n",
    "\t\t\tplt.barh(2,t[i],left=(np.sum(t[:i])))\n",
    "\t\t\tplt.text(np.sum(t[:i])+t[i]/4,2,'J%s'%(i+1),color=\"white\")\n",
    "\n",
    "n=3\n",
    "plt.yticks(np.arange(n),np.arange(1,n+1))\n",
    "plt.show()"
   ]
  },
  {
   "cell_type": "code",
   "execution_count": 69,
   "metadata": {},
   "outputs": [
    {
     "data": {
      "text/plain": [
       "31"
      ]
     },
     "execution_count": 69,
     "metadata": {},
     "output_type": "execute_result"
    }
   ],
   "source": []
  },
  {
   "cell_type": "code",
   "execution_count": null,
   "metadata": {},
   "outputs": [],
   "source": []
  }
 ],
 "metadata": {
  "kernelspec": {
   "display_name": "Python 3",
   "language": "python",
   "name": "python3"
  },
  "language_info": {
   "codemirror_mode": {
    "name": "ipython",
    "version": 3
   },
   "file_extension": ".py",
   "mimetype": "text/x-python",
   "name": "python",
   "nbconvert_exporter": "python",
   "pygments_lexer": "ipython3",
   "version": "3.7.4"
  }
 },
 "nbformat": 4,
 "nbformat_minor": 2
}
